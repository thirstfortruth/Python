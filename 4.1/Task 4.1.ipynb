{
 "cells": [
  {
   "cell_type": "markdown",
   "metadata": {},
   "source": [
    "<h2><b>Task 4.1</b> \n",
    "«Работа с ipython notebook, pandas dataframe, загрузка данных»</h2>"
   ]
  },
  {
   "cell_type": "code",
   "execution_count": 1,
   "metadata": {
    "collapsed": true
   },
   "outputs": [],
   "source": [
    "import pandas as pd\n",
    "import numpy as mp\n",
    "import matplotlib.pyplot as plt\n",
    "%matplotlib inline"
   ]
  },
  {
   "cell_type": "code",
   "execution_count": 2,
   "metadata": {
    "collapsed": true
   },
   "outputs": [],
   "source": [
    "directory_with_files = 'C:/Users/user/Downloads/26022017/yob{}.txt'"
   ]
  },
  {
   "cell_type": "markdown",
   "metadata": {},
   "source": [
    "<b><h3>Задача №1</h3></b>\n",
    "\n",
    "С использованием Pandas написать функцию, которая загружает указанные года и выводит ТОП-3 популярных имен."
   ]
  },
  {
   "cell_type": "code",
   "execution_count": 3,
   "metadata": {
    "collapsed": false
   },
   "outputs": [
    {
     "data": {
      "text/plain": [
       "True"
      ]
     },
     "execution_count": 3,
     "metadata": {},
     "output_type": "execute_result"
    }
   ],
   "source": [
    "def count_top3(list_of_years):\n",
    "    names_by_year = {}\n",
    "    for year in list_of_years:\n",
    "        names_by_year[year] = pd.read_csv(directory_with_files.format(year),\n",
    "                                          names=['Name', 'Gender', 'Count'],\n",
    "                                          encoding=\"utf-8-sig\")\n",
    "    names = pd.concat(names_by_year, names=['Name', 'Gender'])\\\n",
    "        .groupby('Name')\\\n",
    "        .sum()\\\n",
    "        .sort_values(by='Count', ascending=False)\\\n",
    "        .head(3)\n",
    "    result = list(names.T.columns[0:3])\n",
    "    return result\n",
    "\n",
    "count_top3([1880]) == ['John', 'William', 'Mary']\n",
    "count_top3([1900, 1950, 2000]) == ['James', 'John', 'Robert']"
   ]
  },
  {
   "cell_type": "markdown",
   "metadata": {},
   "source": [
    "<h3><b>Задача №2</b></h3>\n",
    "\n",
    "С использованием Pandas написать функцию, которая возвращает динамику изменения количества имен за указанные года в разрезе полов."
   ]
  },
  {
   "cell_type": "code",
   "execution_count": null,
   "metadata": {
    "collapsed": true
   },
   "outputs": [],
   "source": [
    "def count_dynamics(list_of_years):\n",
    "    names_by_year = {}\n",
    "    result = []\n",
    "    for year in list_of_years:\n",
    "        names_by_year[year] = pd.read_csv(directory_with_files.format(year),\n",
    "                                          names=['Name', 'Gender', 'Count'],\n",
    "                                          encoding=\"utf-8-sig\")\n",
    "    names = pd.concat(names_by_year, names=['Year']).groupby('Year').sum()\n",
    "    print(names)\n",
    "    return result\n",
    "\n",
    "count_dynamics([1900, 1950, 2000])"
   ]
  },
  {
   "cell_type": "code",
   "execution_count": null,
   "metadata": {
    "collapsed": true
   },
   "outputs": [],
   "source": []
  }
 ],
 "metadata": {
  "kernelspec": {
   "display_name": "Python 3",
   "language": "python",
   "name": "python3"
  },
  "language_info": {
   "codemirror_mode": {
    "name": "ipython",
    "version": 3
   },
   "file_extension": ".py",
   "mimetype": "text/x-python",
   "name": "python",
   "nbconvert_exporter": "python",
   "pygments_lexer": "ipython3",
   "version": "3.6.0"
  }
 },
 "nbformat": 4,
 "nbformat_minor": 2
}
