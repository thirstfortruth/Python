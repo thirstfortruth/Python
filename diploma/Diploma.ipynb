{
 "cells": [
  {
   "cell_type": "code",
   "execution_count": 21,
   "metadata": {
    "collapsed": true
   },
   "outputs": [],
   "source": [
    "import pandas as pd\n",
    "import numpy as np\n",
    "import matplotlib.pyplot as plt\n",
    "%matplotlib inline"
   ]
  },
  {
   "cell_type": "code",
   "execution_count": 22,
   "metadata": {
    "collapsed": true
   },
   "outputs": [],
   "source": [
    "file = 'D:\\Python\\GIT_HUB_repository\\diploma\\groups_output.dat'"
   ]
  },
  {
   "cell_type": "code",
   "execution_count": 86,
   "metadata": {
    "collapsed": false
   },
   "outputs": [],
   "source": [
    "def plot_sex():\n",
    "    users = pd.read_csv(file,\n",
    "                        encoding=\"utf-8-sig\",\n",
    "                       sep=\";\",\n",
    "                       usecols =['SEX'])\n",
    "    users['Count'] = users.apply(lambda column: 1, axis=1)#.groupby(['Count']).aggregate(np.sum)\n",
    "    result_grouped = users.groupby(['SEX']).sum().plot.pie(y='Count')\n",
    "    return result_grouped"
   ]
  },
  {
   "cell_type": "code",
   "execution_count": 87,
   "metadata": {
    "collapsed": false
   },
   "outputs": [
    {
     "data": {
      "text/plain": [
       "<matplotlib.axes._subplots.AxesSubplot at 0x2473ffc7f98>"
      ]
     },
     "execution_count": 87,
     "metadata": {},
     "output_type": "execute_result"
    },
    {
     "data": {
      "image/png": "[encoded data removed]",
      "text/plain": [
       "<matplotlib.figure.Figure at 0x2473ffdbe80>"
      ]
     },
     "metadata": {},
     "output_type": "display_data"
    }
   ],
   "source": [
    "plot_sex()"
   ]
  },
  {
   "cell_type": "code",
   "execution_count": 125,
   "metadata": {
    "collapsed": true
   },
   "outputs": [],
   "source": [
    "def plot_age():\n",
    "    users = pd.read_csv(file,\n",
    "                        encoding=\"utf-8-sig\",\n",
    "                       sep=\";\",\n",
    "                       usecols =['AGE'])\n",
    "    users['Count'] = users.apply(lambda column: 1, axis=1)#.groupby(['Count']).aggregate(np.sum)\n",
    "    result_grouped = users.groupby(['AGE']).sum()\n",
    "    result_grouped = result_grouped.plot.bar(y='Count',\n",
    "                                             width=0.75,\n",
    "                                             color='red',\n",
    "                                             edgecolor='black',\n",
    "                                             lw=1,\n",
    "                                             align='center')\n",
    "    return result_grouped"
   ]
  },
  {
   "cell_type": "code",
   "execution_count": 126,
   "metadata": {
    "collapsed": false
   },
   "outputs": [
    {
     "data": {
      "text/plain": [
       "<matplotlib.axes._subplots.AxesSubplot at 0x24743cffdd8>"
      ]
     },
     "execution_count": 126,
     "metadata": {},
     "output_type": "execute_result"
    },
    {
     "data": {
      "image/png": "[encoded data removed]",
      "text/plain": [
       "<matplotlib.figure.Figure at 0x24743cf8c18>"
      ]
     },
     "metadata": {},
     "output_type": "display_data"
    }
   ],
   "source": [
    "plot_age()"
   ]
  },
  {
   "cell_type": "code",
   "execution_count": 155,
   "metadata": {
    "collapsed": false
   },
   "outputs": [],
   "source": [
    "def plot_age_where_defined():\n",
    "    users = pd.read_csv(file,\n",
    "                        encoding=\"utf-8-sig\",\n",
    "                       sep=\";\",\n",
    "                       usecols =['AGE'])\n",
    "    users['Count'] = users.apply(lambda column: 1, axis=1)#.groupby(['Count']).aggregate(np.sum)\n",
    "    result_grouped = users[users[\"AGE\"] != 0].groupby(['AGE']).sum()\n",
    "    result_grouped = result_grouped.plot.bar(y='Count',\n",
    "                                             width=0.75,\n",
    "                                             color='red',\n",
    "                                             edgecolor='black',\n",
    "                                             lw=1,\n",
    "                                             align='center')\n",
    "    return result_grouped"
   ]
  },
  {
   "cell_type": "code",
   "execution_count": 156,
   "metadata": {
    "collapsed": false
   },
   "outputs": [
    {
     "data": {
      "text/plain": [
       "<matplotlib.axes._subplots.AxesSubplot at 0x247446255c0>"
      ]
     },
     "execution_count": 156,
     "metadata": {},
     "output_type": "execute_result"
    },
    {
     "data": {
      "image/png": "[encoded data removed]",
      "text/plain": [
       "<matplotlib.figure.Figure at 0x24744505b00>"
      ]
     },
     "metadata": {},
     "output_type": "display_data"
    }
   ],
   "source": [
    "plot_age_where_defined()"
   ]
  },
  {
   "cell_type": "code",
   "execution_count": null,
   "metadata": {
    "collapsed": true
   },
   "outputs": [],
   "source": []
  },
  {
   "cell_type": "code",
   "execution_count": null,
   "metadata": {
    "collapsed": true
   },
   "outputs": [],
   "source": []
  }
 ],
 "metadata": {
  "kernelspec": {
   "display_name": "Python 3",
   "language": "python",
   "name": "python3"
  },
  "language_info": {
   "codemirror_mode": {
    "name": "ipython",
    "version": 3
   },
   "file_extension": ".py",
   "mimetype": "text/x-python",
   "name": "python",
   "nbconvert_exporter": "python",
   "pygments_lexer": "ipython3",
   "version": "3.6.0"
  }
 },
 "nbformat": 4,
 "nbformat_minor": 2
}
